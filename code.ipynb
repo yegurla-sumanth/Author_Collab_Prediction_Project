{
  "nbformat": 4,
  "nbformat_minor": 0,
  "metadata": {
    "colab": {
      "provenance": [],
      "collapsed_sections": [],
      "toc_visible": true
    },
    "kernelspec": {
      "name": "python3",
      "display_name": "Python 3"
    },
    "language_info": {
      "name": "python"
    },
    "accelerator": "GPU",
    "gpuClass": "standard"
  },
  "cells": [
    {
      "cell_type": "markdown",
      "source": [
        "# **ENVIRONMENT SETUP**"
      ],
      "metadata": {
        "id": "JGRk0kTeUooE"
      }
    },
    {
      "cell_type": "code",
      "source": [
        "import torch\n",
        "\n",
        "TORCH = torch.__version__.split('+')[0]\n",
        "CUDA = 'cu' + torch.version.cuda.replace('.', '')\n",
        "\n",
        "!pip install torch-scatter -f https://data.pyg.org/whl/torch-{TORCH}+{CUDA}.html\n",
        "!pip install torch-sparse -f https://data.pyg.org/whl/torch-{TORCH}+{CUDA}.html\n",
        "!pip install torch-geometric\n",
        "!pip install ogb"
      ],
      "metadata": {
        "colab": {
          "base_uri": "https://localhost:8080/"
        },
        "id": "7zu18VOYXzZo",
        "outputId": "dcc6f6d1-c88d-4085-cc03-0595009c5eae"
      },
      "execution_count": null,
      "outputs": [
        {
          "output_type": "stream",
          "name": "stdout",
          "text": [
            "Looking in indexes: https://pypi.org/simple, https://us-python.pkg.dev/colab-wheels/public/simple/\n",
            "Looking in links: https://data.pyg.org/whl/torch-1.12.1+cu113.html\n",
            "Requirement already satisfied: torch-scatter in /usr/local/lib/python3.7/dist-packages (2.0.9)\n",
            "Looking in indexes: https://pypi.org/simple, https://us-python.pkg.dev/colab-wheels/public/simple/\n",
            "Looking in links: https://data.pyg.org/whl/torch-1.12.1+cu113.html\n",
            "Requirement already satisfied: torch-sparse in /usr/local/lib/python3.7/dist-packages (0.6.15)\n",
            "Requirement already satisfied: scipy in /usr/local/lib/python3.7/dist-packages (from torch-sparse) (1.7.3)\n",
            "Requirement already satisfied: numpy<1.23.0,>=1.16.5 in /usr/local/lib/python3.7/dist-packages (from scipy->torch-sparse) (1.21.6)\n",
            "Looking in indexes: https://pypi.org/simple, https://us-python.pkg.dev/colab-wheels/public/simple/\n",
            "Requirement already satisfied: torch-geometric in /usr/local/lib/python3.7/dist-packages (2.1.0.post1)\n",
            "Requirement already satisfied: tqdm in /usr/local/lib/python3.7/dist-packages (from torch-geometric) (4.64.1)\n",
            "Requirement already satisfied: requests in /usr/local/lib/python3.7/dist-packages (from torch-geometric) (2.23.0)\n",
            "Requirement already satisfied: pyparsing in /usr/local/lib/python3.7/dist-packages (from torch-geometric) (3.0.9)\n",
            "Requirement already satisfied: scipy in /usr/local/lib/python3.7/dist-packages (from torch-geometric) (1.7.3)\n",
            "Requirement already satisfied: scikit-learn in /usr/local/lib/python3.7/dist-packages (from torch-geometric) (1.0.2)\n",
            "Requirement already satisfied: jinja2 in /usr/local/lib/python3.7/dist-packages (from torch-geometric) (2.11.3)\n",
            "Requirement already satisfied: numpy in /usr/local/lib/python3.7/dist-packages (from torch-geometric) (1.21.6)\n",
            "Requirement already satisfied: MarkupSafe>=0.23 in /usr/local/lib/python3.7/dist-packages (from jinja2->torch-geometric) (2.0.1)\n",
            "Requirement already satisfied: certifi>=2017.4.17 in /usr/local/lib/python3.7/dist-packages (from requests->torch-geometric) (2022.9.24)\n",
            "Requirement already satisfied: idna<3,>=2.5 in /usr/local/lib/python3.7/dist-packages (from requests->torch-geometric) (2.10)\n",
            "Requirement already satisfied: chardet<4,>=3.0.2 in /usr/local/lib/python3.7/dist-packages (from requests->torch-geometric) (3.0.4)\n",
            "Requirement already satisfied: urllib3!=1.25.0,!=1.25.1,<1.26,>=1.21.1 in /usr/local/lib/python3.7/dist-packages (from requests->torch-geometric) (1.24.3)\n",
            "Requirement already satisfied: joblib>=0.11 in /usr/local/lib/python3.7/dist-packages (from scikit-learn->torch-geometric) (1.2.0)\n",
            "Requirement already satisfied: threadpoolctl>=2.0.0 in /usr/local/lib/python3.7/dist-packages (from scikit-learn->torch-geometric) (3.1.0)\n",
            "Looking in indexes: https://pypi.org/simple, https://us-python.pkg.dev/colab-wheels/public/simple/\n",
            "Requirement already satisfied: ogb in /usr/local/lib/python3.7/dist-packages (1.3.5)\n",
            "Requirement already satisfied: urllib3>=1.24.0 in /usr/local/lib/python3.7/dist-packages (from ogb) (1.24.3)\n",
            "Requirement already satisfied: pandas>=0.24.0 in /usr/local/lib/python3.7/dist-packages (from ogb) (1.3.5)\n",
            "Requirement already satisfied: numpy>=1.16.0 in /usr/local/lib/python3.7/dist-packages (from ogb) (1.21.6)\n",
            "Requirement already satisfied: six>=1.12.0 in /usr/local/lib/python3.7/dist-packages (from ogb) (1.15.0)\n",
            "Requirement already satisfied: torch>=1.6.0 in /usr/local/lib/python3.7/dist-packages (from ogb) (1.12.1+cu113)\n",
            "Requirement already satisfied: tqdm>=4.29.0 in /usr/local/lib/python3.7/dist-packages (from ogb) (4.64.1)\n",
            "Requirement already satisfied: outdated>=0.2.0 in /usr/local/lib/python3.7/dist-packages (from ogb) (0.2.2)\n",
            "Requirement already satisfied: scikit-learn>=0.20.0 in /usr/local/lib/python3.7/dist-packages (from ogb) (1.0.2)\n",
            "Requirement already satisfied: requests in /usr/local/lib/python3.7/dist-packages (from outdated>=0.2.0->ogb) (2.23.0)\n",
            "Requirement already satisfied: littleutils in /usr/local/lib/python3.7/dist-packages (from outdated>=0.2.0->ogb) (0.2.2)\n",
            "Requirement already satisfied: setuptools>=44 in /usr/local/lib/python3.7/dist-packages (from outdated>=0.2.0->ogb) (57.4.0)\n",
            "Requirement already satisfied: python-dateutil>=2.7.3 in /usr/local/lib/python3.7/dist-packages (from pandas>=0.24.0->ogb) (2.8.2)\n",
            "Requirement already satisfied: pytz>=2017.3 in /usr/local/lib/python3.7/dist-packages (from pandas>=0.24.0->ogb) (2022.6)\n",
            "Requirement already satisfied: scipy>=1.1.0 in /usr/local/lib/python3.7/dist-packages (from scikit-learn>=0.20.0->ogb) (1.7.3)\n",
            "Requirement already satisfied: threadpoolctl>=2.0.0 in /usr/local/lib/python3.7/dist-packages (from scikit-learn>=0.20.0->ogb) (3.1.0)\n",
            "Requirement already satisfied: joblib>=0.11 in /usr/local/lib/python3.7/dist-packages (from scikit-learn>=0.20.0->ogb) (1.2.0)\n",
            "Requirement already satisfied: typing-extensions in /usr/local/lib/python3.7/dist-packages (from torch>=1.6.0->ogb) (4.1.1)\n",
            "Requirement already satisfied: idna<3,>=2.5 in /usr/local/lib/python3.7/dist-packages (from requests->outdated>=0.2.0->ogb) (2.10)\n",
            "Requirement already satisfied: certifi>=2017.4.17 in /usr/local/lib/python3.7/dist-packages (from requests->outdated>=0.2.0->ogb) (2022.9.24)\n",
            "Requirement already satisfied: chardet<4,>=3.0.2 in /usr/local/lib/python3.7/dist-packages (from requests->outdated>=0.2.0->ogb) (3.0.4)\n"
          ]
        }
      ]
    },
    {
      "cell_type": "code",
      "source": [
        "!nvidia-smi"
      ],
      "metadata": {
        "colab": {
          "base_uri": "https://localhost:8080/"
        },
        "id": "UjmhwZwiLoTx",
        "outputId": "316a9250-13ac-4843-8baa-fa1ff2843bb7"
      },
      "execution_count": null,
      "outputs": [
        {
          "output_type": "stream",
          "name": "stdout",
          "text": [
            "Fri Nov 11 14:40:39 2022       \n",
            "+-----------------------------------------------------------------------------+\n",
            "| NVIDIA-SMI 460.32.03    Driver Version: 460.32.03    CUDA Version: 11.2     |\n",
            "|-------------------------------+----------------------+----------------------+\n",
            "| GPU  Name        Persistence-M| Bus-Id        Disp.A | Volatile Uncorr. ECC |\n",
            "| Fan  Temp  Perf  Pwr:Usage/Cap|         Memory-Usage | GPU-Util  Compute M. |\n",
            "|                               |                      |               MIG M. |\n",
            "|===============================+======================+======================|\n",
            "|   0  Tesla T4            Off  | 00000000:00:04.0 Off |                    0 |\n",
            "| N/A   34C    P8     9W /  70W |      3MiB / 15109MiB |      0%      Default |\n",
            "|                               |                      |                  N/A |\n",
            "+-------------------------------+----------------------+----------------------+\n",
            "                                                                               \n",
            "+-----------------------------------------------------------------------------+\n",
            "| Processes:                                                                  |\n",
            "|  GPU   GI   CI        PID   Type   Process name                  GPU Memory |\n",
            "|        ID   ID                                                   Usage      |\n",
            "|=============================================================================|\n",
            "|  No running processes found                                                 |\n",
            "+-----------------------------------------------------------------------------+\n"
          ]
        }
      ]
    },
    {
      "cell_type": "markdown",
      "source": [
        "# **DATASET PROCESSING**"
      ],
      "metadata": {
        "id": "v7FAMvcbPtem"
      }
    },
    {
      "cell_type": "code",
      "source": [
        "from torch_sparse import SparseTensor\n",
        "import torch_geometric.transforms as T\n",
        "from ogb.linkproppred import PygLinkPropPredDataset"
      ],
      "metadata": {
        "id": "WDpjLWmYPnBO"
      },
      "execution_count": null,
      "outputs": []
    },
    {
      "cell_type": "code",
      "source": [
        "device = 'cuda' if torch.cuda.is_available() else 'cpu'\n",
        "device = torch.device(device)"
      ],
      "metadata": {
        "id": "wlXB2faEK1u8"
      },
      "execution_count": null,
      "outputs": []
    },
    {
      "cell_type": "code",
      "source": [
        "pyg_dataset = PygLinkPropPredDataset(name='ogbl-collab')\n",
        "data = pyg_dataset[0]\n",
        "print(data)\n",
        "split_edge = pyg_dataset.get_edge_split()\n",
        "edge_index = data.edge_index"
      ],
      "metadata": {
        "id": "SYsdLhBlcDjp",
        "colab": {
          "base_uri": "https://localhost:8080/"
        },
        "outputId": "0f0ab0bd-663f-4d1f-d330-36136d22dfb5"
      },
      "execution_count": null,
      "outputs": [
        {
          "output_type": "stream",
          "name": "stdout",
          "text": [
            "Data(num_nodes=235868, edge_index=[2, 2358104], x=[235868, 128], edge_weight=[2358104, 1], edge_year=[2358104, 1])\n"
          ]
        }
      ]
    },
    {
      "cell_type": "code",
      "source": [
        "data.edge_weight = data.edge_weight.view(-1).to(torch.float)\n",
        "print(data)\n",
        "data = T.ToSparseTensor()(data)\n",
        "print(data)"
      ],
      "metadata": {
        "id": "q2Hy1OiQJiEJ",
        "colab": {
          "base_uri": "https://localhost:8080/"
        },
        "outputId": "a36c6691-2970-4ab6-e967-220ce3dfb3ba"
      },
      "execution_count": null,
      "outputs": [
        {
          "output_type": "stream",
          "name": "stdout",
          "text": [
            "Data(num_nodes=235868, edge_index=[2, 2358104], x=[235868, 128], edge_weight=[2358104], edge_year=[2358104, 1])\n",
            "Data(num_nodes=235868, x=[235868, 128], edge_year=[2358104, 1], adj_t=[235868, 235868, nnz=2358104])\n"
          ]
        }
      ]
    },
    {
      "cell_type": "code",
      "source": [
        "# Considering val edges too along with train edges, as input during inference\n",
        "val_edge_index = split_edge['valid']['edge'].t()\n",
        "full_edge_index = torch.cat([edge_index, val_edge_index], dim=-1)\n",
        "data.full_adj_t = SparseTensor.from_edge_index(full_edge_index).t()\n",
        "data.full_adj_t = data.full_adj_t.to_symmetric()"
      ],
      "metadata": {
        "id": "-_nfxvuPI7gV"
      },
      "execution_count": null,
      "outputs": []
    },
    {
      "cell_type": "code",
      "source": [
        "#shift data to device for accelerated GPU training\n",
        "data = data.to(device)\n",
        "data"
      ],
      "metadata": {
        "colab": {
          "base_uri": "https://localhost:8080/"
        },
        "id": "nm1zpJWAZ6JY",
        "outputId": "4148d4da-6cd5-4b40-cd51-fc6b1398bbb3"
      },
      "execution_count": null,
      "outputs": [
        {
          "output_type": "execute_result",
          "data": {
            "text/plain": [
              "Data(num_nodes=235868, x=[235868, 128], edge_year=[2358104, 1], adj_t=[235868, 235868, nnz=2358104], full_adj_t=[235868, 235868, nnz=1999288])"
            ]
          },
          "metadata": {},
          "execution_count": 8
        }
      ]
    },
    {
      "cell_type": "markdown",
      "source": [
        "# **MODEL** "
      ],
      "metadata": {
        "id": "MjQqg6QWdl1W"
      }
    },
    {
      "cell_type": "code",
      "source": [
        "import torch\n",
        "import torch.nn.functional as F\n",
        "from torch.utils.data import DataLoader\n",
        "from torch_geometric.nn import SAGEConv, GCNConv, GraphNorm\n",
        "from tqdm import tqdm\n",
        "import random, os\n",
        "import numpy as np"
      ],
      "metadata": {
        "id": "Bxdr7i3pdeQb"
      },
      "execution_count": null,
      "outputs": []
    },
    {
      "cell_type": "code",
      "source": [
        "def seed_everything(seed):\n",
        "    random.seed(seed)\n",
        "    os.environ['PYTHONHASHSEED'] = str(seed)\n",
        "    np.random.seed(seed)\n",
        "    torch.manual_seed(seed)\n",
        "    torch.cuda.manual_seed(seed)\n",
        "    torch.backends.cudnn.deterministic = True\n",
        "    torch.backends.cudnn.benchmark = False\n",
        "    \n",
        "seed_everything(42)"
      ],
      "metadata": {
        "id": "FH98ALp1YX4x"
      },
      "execution_count": null,
      "outputs": []
    },
    {
      "cell_type": "code",
      "source": [
        "class GraphOpwNORM(torch.nn.Module):\n",
        "    def __init__(self, input_dim, hidden_dim, output_dim, norm_flag, conv_type='gcn', dropout=0.1):\n",
        "        super(GraphOpwNORM, self).__init__()\n",
        "        self.CONV = GCNConv if conv_type=='gcn' else SAGEConv\n",
        "        self.norm_flag = norm_flag\n",
        "\n",
        "        self.conv1 = self.CONV(input_dim, hidden_dim)\n",
        "        if self.norm_flag:\n",
        "             self.norm1 = GraphNorm(hidden_dim)\n",
        "        self.conv2 = self.CONV(hidden_dim, hidden_dim)\n",
        "        if self.norm_flag:\n",
        "             self.norm2 = GraphNorm(hidden_dim)\n",
        "        self.conv3 = self.CONV(hidden_dim, output_dim)\n",
        "        self.dropout = dropout          \n",
        "\n",
        "    def forward(self, x, neigh):\n",
        "        x = self.conv1(x, neigh)\n",
        "        if self.norm_flag:\n",
        "             x = self.norm1(x)\n",
        "        x = F.relu(x)\n",
        "        x = F.dropout(x, p=self.dropout, training=self.training)\n",
        "        x = self.conv2(x, neigh)\n",
        "        if self.norm_flag:\n",
        "             x = self.norm2(x)\n",
        "        x = F.relu(x)\n",
        "        x = F.dropout(x, p=self.dropout, training=self.training)\n",
        "        x = self.conv3(x, neigh)\n",
        "        return x"
      ],
      "metadata": {
        "id": "mReeqBO5qeRd"
      },
      "execution_count": null,
      "outputs": []
    },
    {
      "cell_type": "code",
      "source": [
        "class CollabPred(torch.nn.Module):\n",
        "    def __init__(self, in_dim, hidden_dim, out_dim, p=0.1):\n",
        "        super(CollabPred, self).__init__()\n",
        "        self.dense1 = torch.nn.Linear(in_dim, hidden_dim)\n",
        "        self.dense2 = torch.nn.Linear(hidden_dim, hidden_dim)\n",
        "        self.dense3 = torch.nn.Linear(hidden_dim, out_dim)\n",
        "        self.dropout = p\n",
        "\n",
        "    def forward(self, node_i, node_j):\n",
        "        x = node_i * node_j\n",
        "        x = self.dense1(x)\n",
        "        x = F.relu(x)\n",
        "        x = F.dropout(x, p=self.dropout, training=self.training)\n",
        "        x = self.dense2(x)\n",
        "        x = F.relu(x)\n",
        "        x = F.dropout(x, p=self.dropout, training=self.training)\n",
        "        x = self.dense3(x)\n",
        "        return torch.sigmoid(x)"
      ],
      "metadata": {
        "id": "uztwgb68eGOR"
      },
      "execution_count": null,
      "outputs": []
    },
    {
      "cell_type": "code",
      "source": [
        "def train(model, predictor, data, edges, optimizer, batch_size, epsilon=1e-15):\n",
        "    model.train()\n",
        "    predictor.train()\n",
        "    train_edges = edges['train']['edge'].to(data.x.device)\n",
        "    train_dataloader = DataLoader(range(train_edges.size(0)), batch_size, shuffle=True)\n",
        "    total_loss = 0\n",
        "    total_examples = 0\n",
        "    for idx in train_dataloader:\n",
        "        optimizer.zero_grad()\n",
        "        new_features = model(data.x, data.adj_t)\n",
        "        pos_edge = train_edges[idx].t()\n",
        "        pos_sample = predictor(new_features[pos_edge[0]], new_features[pos_edge[1]])\n",
        "        # Negative Sampling\n",
        "        neg_edge = torch.randint(0, data.num_nodes, pos_edge.size(), dtype=torch.long, device=new_features.device)\n",
        "        neg_sample = predictor(new_features[neg_edge[0]], new_features[neg_edge[1]])\n",
        "        loss = - torch.log(pos_sample + epsilon).mean() - torch.log(1 - neg_sample + epsilon).mean() \n",
        "        loss.backward()\n",
        "        optimizer.step()\n",
        "        num_examples = pos_sample.size(0)\n",
        "        total_loss += loss.item() * num_examples\n",
        "        total_examples += num_examples\n",
        "\n",
        "    return total_loss / total_examples"
      ],
      "metadata": {
        "id": "CWtCLy4VkFG5"
      },
      "execution_count": null,
      "outputs": []
    },
    {
      "cell_type": "code",
      "source": [
        "def get_preds(edges, batch_size, node_features):\n",
        "    preds = []\n",
        "    for idx in DataLoader(range(edges.size(0)), batch_size):\n",
        "        edge = edges[idx].t()\n",
        "        preds += [predictor(node_features[edge[0]], node_features[edge[1]]).squeeze().cpu()]\n",
        "    return torch.cat(preds, dim=0)"
      ],
      "metadata": {
        "id": "L4YoAvZwV7ai"
      },
      "execution_count": null,
      "outputs": []
    },
    {
      "cell_type": "code",
      "source": [
        "def eval_hits_50(splits, pos_split, neg_split, evaluator, batch_size, node_features):\n",
        "    pos_edge = splits[pos_split]['edge'].to(node_features.device)\n",
        "    neg_edge = splits[neg_split]['edge_neg'].to(node_features.device)\n",
        "\n",
        "    pos_pred = get_preds(pos_edge, batch_size, node_features) #true collaborations\n",
        "    neg_pred = get_preds(neg_edge, batch_size, node_features) #false collaborations\n",
        "    \n",
        "    return evaluator.eval({'y_pred_pos': pos_pred,'y_pred_neg': neg_pred,})['hits@50']"
      ],
      "metadata": {
        "id": "kuk0yUs_V8PT"
      },
      "execution_count": null,
      "outputs": []
    },
    {
      "cell_type": "code",
      "source": [
        "def evaluate(model, predictor, data, split_edge, evaluator, batch_size, mode):\n",
        "    with torch.no_grad():\n",
        "        model.eval()\n",
        "        predictor.eval()\n",
        "        evaluator.K = 50\n",
        "        if mode == 'train':    # Evaluating Hits@50 on train\n",
        "            node_features = model(data.x, data.adj_t)\n",
        "            return eval_hits_50(split_edge, 'train', 'valid', evaluator, batch_size, node_features)\n",
        "        elif mode == 'val':    # Evaluating Hits@50 on Val\n",
        "            node_features = model(data.x, data.adj_t)\n",
        "            return eval_hits_50(split_edge, 'valid', 'valid', evaluator, batch_size, node_features)\n",
        "        elif mode == 'test':   # Evaluating Hits@50 on test, using both train and val links for test data\n",
        "            node_features = model(data.x, data.full_adj_t)\n",
        "            return eval_hits_50(split_edge, 'test', 'test', evaluator, batch_size, node_features)\n",
        "        else:\n",
        "            print('INVALID EVAL MODE!!!')"
      ],
      "metadata": {
        "id": "l_CkrTrlkLhg"
      },
      "execution_count": null,
      "outputs": []
    },
    {
      "cell_type": "code",
      "source": [
        "from pickle import load\n",
        "from matplotlib.pylab import plt\n",
        "from numpy import arange\n",
        "\n",
        "def plot_history(history, train_hits, val_hits, test_hits, num_epochs, model_type):\n",
        "      plt.plot(np.arange(0, num_epochs, step=1), train_hits, label='Train Hits@50')\n",
        "      plt.plot(np.arange(0, num_epochs, step=1), val_hits, label='Val Hits@50')\n",
        "      plt.plot(np.arange(0, num_epochs, step=1), test_hits, label='Test Hits@50')\n",
        "      plt.title(f'HISTORY ({model_type})')\n",
        "      plt.xlabel('Epochs')\n",
        "      plt.ylabel('Hits@50')\n",
        "      plt.xticks(np.arange(0, num_epochs, step=20))\n",
        "      plt.legend(loc='best')\n",
        "      plt.savefig(model_type+'.png')"
      ],
      "metadata": {
        "id": "IZjqgMqf64zk"
      },
      "execution_count": null,
      "outputs": []
    },
    {
      "cell_type": "markdown",
      "source": [
        "# **TRAIN & EVALUATE**"
      ],
      "metadata": {
        "id": "EHfaIrhO6IAr"
      }
    },
    {
      "cell_type": "code",
      "source": [
        "from ogb.linkproppred import Evaluator"
      ],
      "metadata": {
        "id": "9PzhkEt-5dzc"
      },
      "execution_count": null,
      "outputs": []
    },
    {
      "cell_type": "code",
      "source": [
        "# HYPERPARAMETERS\n",
        "\n",
        "HIDDEN_CHANNELS = 256\n",
        "DROPOUT = 0.1\n",
        "LR = 6e-4\n",
        "N_EPOCHS = 200\n",
        "BATCH_SIZE = 64 * 1024\n",
        "NORM_FLAG = True\n",
        "FILTER_TYPE = 'gcn'\n",
        "model_type = FILTER_TYPE + '_' +'gnorm' if NORM_FLAG else FILTER_TYPE"
      ],
      "metadata": {
        "id": "z37QrarKexnG"
      },
      "execution_count": null,
      "outputs": []
    },
    {
      "cell_type": "code",
      "source": [
        "model = GraphOpwNORM(data.num_features, HIDDEN_CHANNELS, HIDDEN_CHANNELS, NORM_FLAG, FILTER_TYPE, DROPOUT).to(device)\n",
        "predictor = CollabPred(HIDDEN_CHANNELS, HIDDEN_CHANNELS, 1, DROPOUT).to(device)\n",
        "evaluator = Evaluator(name='ogbl-collab')\n",
        "optimizer = torch.optim.Adam(list(model.parameters()) + list(predictor.parameters()),lr=LR)"
      ],
      "metadata": {
        "id": "RRqjGSdOeMld"
      },
      "execution_count": null,
      "outputs": []
    },
    {
      "cell_type": "code",
      "source": [
        "history = []\n",
        "train_hits = []\n",
        "val_hits = []\n",
        "test_hits = []\n",
        "epochs = []\n",
        "\n",
        "for epoch in tqdm(range(1, 1 + N_EPOCHS)):\n",
        "    loss = train(model, predictor, data, split_edge, optimizer, BATCH_SIZE)\n",
        "    history.append(loss)\n",
        "    train_hit = evaluate(model, predictor, data, split_edge, evaluator, BATCH_SIZE, 'train')\n",
        "    train_hits.append(train_hit)\n",
        "    val_hit = evaluate(model, predictor, data, split_edge, evaluator, BATCH_SIZE, 'val')\n",
        "    val_hits.append(val_hit)\n",
        "    test_hit = evaluate(model, predictor, data, split_edge, evaluator, BATCH_SIZE, 'test')\n",
        "    test_hits.append(test_hit)\n",
        "    if epoch % 20 == 0:\n",
        "        print(f'\\nEPOCH: {epoch}, Loss: {loss}  |  \\nTrain: {100 * train_hit}%, Valid: {100 * val_hit}%, , Test: {100 * test_hit}%')"
      ],
      "metadata": {
        "id": "PSisPbjRkm5L",
        "colab": {
          "base_uri": "https://localhost:8080/"
        },
        "outputId": "7ae00c53-2018-4953-856c-5996bee07027"
      },
      "execution_count": null,
      "outputs": [
        {
          "output_type": "stream",
          "name": "stderr",
          "text": [
            " 10%|█         | 20/200 [03:06<27:29,  9.17s/it]"
          ]
        },
        {
          "output_type": "stream",
          "name": "stdout",
          "text": [
            "\n",
            "EPOCH: 20, Loss: 0.04135762283425295  |  \n",
            "Train: 78.58508360954394%, Valid: 49.803608281738896%, , Test: 49.24561289904811%\n"
          ]
        },
        {
          "output_type": "stream",
          "name": "stderr",
          "text": [
            " 20%|██        | 40/200 [06:08<24:14,  9.09s/it]"
          ]
        },
        {
          "output_type": "stream",
          "name": "stdout",
          "text": [
            "\n",
            "EPOCH: 40, Loss: 0.02642313669696227  |  \n",
            "Train: 87.5989354159104%, Valid: 53.649890153784696%, , Test: 52.623626670120224%\n"
          ]
        },
        {
          "output_type": "stream",
          "name": "stderr",
          "text": [
            " 30%|███       | 60/200 [09:11<21:54,  9.39s/it]"
          ]
        },
        {
          "output_type": "stream",
          "name": "stdout",
          "text": [
            "\n",
            "EPOCH: 60, Loss: 0.020144514415127275  |  \n",
            "Train: 93.0651913571242%, Valid: 57.233206843752086%, , Test: 55.44691230115046%\n"
          ]
        },
        {
          "output_type": "stream",
          "name": "stderr",
          "text": [
            " 40%|████      | 80/200 [12:13<18:08,  9.07s/it]"
          ]
        },
        {
          "output_type": "stream",
          "name": "stdout",
          "text": [
            "\n",
            "EPOCH: 80, Loss: 0.016680340791078163  |  \n",
            "Train: 95.24092236813982%, Valid: 58.98242460555223%, , Test: 57.42623410822595%\n"
          ]
        },
        {
          "output_type": "stream",
          "name": "stderr",
          "text": [
            " 50%|█████     | 100/200 [15:14<15:06,  9.07s/it]"
          ]
        },
        {
          "output_type": "stream",
          "name": "stdout",
          "text": [
            "\n",
            "EPOCH: 100, Loss: 0.014446848918840014  |  \n",
            "Train: 96.56105074246089%, Valid: 59.7363690832834%, , Test: 58.81629217121026%\n"
          ]
        },
        {
          "output_type": "stream",
          "name": "stderr",
          "text": [
            " 60%|██████    | 120/200 [18:15<12:02,  9.03s/it]"
          ]
        },
        {
          "output_type": "stream",
          "name": "stdout",
          "text": [
            "\n",
            "EPOCH: 120, Loss: 0.013108634523434824  |  \n",
            "Train: 96.87808510566116%, Valid: 59.45676053525065%, , Test: 57.734896069416564%\n"
          ]
        },
        {
          "output_type": "stream",
          "name": "stderr",
          "text": [
            " 70%|███████   | 140/200 [21:16<09:02,  9.04s/it]"
          ]
        },
        {
          "output_type": "stream",
          "name": "stdout",
          "text": [
            "\n",
            "EPOCH: 140, Loss: 0.011550659237677735  |  \n",
            "Train: 96.88215617292538%, Valid: 59.06730577191931%, , Test: 58.47525308122342%\n"
          ]
        },
        {
          "output_type": "stream",
          "name": "stderr",
          "text": [
            " 80%|████████  | 160/200 [24:17<06:01,  9.03s/it]"
          ]
        },
        {
          "output_type": "stream",
          "name": "stdout",
          "text": [
            "\n",
            "EPOCH: 160, Loss: 0.011336968967564384  |  \n",
            "Train: 97.79585633203625%, Valid: 60.94634178816324%, , Test: 61.026570830365436%\n"
          ]
        },
        {
          "output_type": "stream",
          "name": "stderr",
          "text": [
            " 90%|█████████ | 180/200 [27:18<03:00,  9.04s/it]"
          ]
        },
        {
          "output_type": "stream",
          "name": "stdout",
          "text": [
            "\n",
            "EPOCH: 180, Loss: 0.01075560268731347  |  \n",
            "Train: 98.14079446877662%, Valid: 60.47699886825112%, , Test: 59.843726391676924%\n"
          ]
        },
        {
          "output_type": "stream",
          "name": "stderr",
          "text": [
            "100%|██████████| 200/200 [30:18<00:00,  9.09s/it]"
          ]
        },
        {
          "output_type": "stream",
          "name": "stdout",
          "text": [
            "\n",
            "EPOCH: 200, Loss: 0.010113602608475622  |  \n",
            "Train: 98.67155986334785%, Valid: 61.577125357832365%, , Test: 59.90848064926936%\n"
          ]
        },
        {
          "output_type": "stream",
          "name": "stderr",
          "text": [
            "\n"
          ]
        }
      ]
    },
    {
      "cell_type": "code",
      "source": [
        "plot_history(history, train_hits, val_hits, test_hits, N_EPOCHS, model_type)"
      ],
      "metadata": {
        "id": "Wm2QBHcWVbck",
        "colab": {
          "base_uri": "https://localhost:8080/",
          "height": 295
        },
        "outputId": "7e6b5d38-a33a-4a2e-9262-143ce5e51175"
      },
      "execution_count": null,
      "outputs": [
        {
          "output_type": "display_data",
          "data": {
            "text/plain": [
              "<Figure size 432x288 with 1 Axes>"
            ],
            "image/png": "[encoded data removed]"
          },
          "metadata": {
            "needs_background": "light"
          }
        }
      ]
    },
    {
      "cell_type": "code",
      "source": [
        "print(f'Val: {val_hit}, Test:  {test_hit}')"
      ],
      "metadata": {
        "id": "MljRwZ7TX217",
        "colab": {
          "base_uri": "https://localhost:8080/"
        },
        "outputId": "52ee74bd-6c5d-4740-8d99-141d4f5f8851"
      },
      "execution_count": null,
      "outputs": [
        {
          "output_type": "stream",
          "name": "stdout",
          "text": [
            "Val: 0.6157712535783236, Test:  0.5990848064926936\n"
          ]
        }
      ]
    }
  ]
}